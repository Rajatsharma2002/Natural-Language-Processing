{
 "cells": [
  {
   "cell_type": "code",
   "execution_count": 1,
   "id": "9d5ae999",
   "metadata": {},
   "outputs": [],
   "source": [
    "import nltk\n",
    "from nltk.corpus import wordnet as wn"
   ]
  },
  {
   "cell_type": "code",
   "execution_count": 2,
   "id": "4c90276c",
   "metadata": {},
   "outputs": [
    {
     "name": "stdout",
     "output_type": "stream",
     "text": [
      "Synonyms of happy is {'glad', 'well-chosen', 'happy', 'felicitous'}\n",
      "Antonyms of happy is {'unhappy'}\n"
     ]
    }
   ],
   "source": [
    "synonyms = []\n",
    "antonyms = []\n",
    "word = \"happy\"\n",
    "\n",
    "for synset in wn.synsets(word):\n",
    "    for l in synset.lemmas():\n",
    "        synonyms.append(l.name())\n",
    "        if l.antonyms():\n",
    "            antonyms.append(l.antonyms()[0].name())\n",
    "print(f\"Synonyms of {word} is {set(synonyms)}\")\n",
    "print(f\"Antonyms of {word} is {set(antonyms)}\")"
   ]
  },
  {
   "cell_type": "code",
   "execution_count": 3,
   "id": "7545a402",
   "metadata": {},
   "outputs": [
    {
     "data": {
      "text/plain": [
       "[Synset('man.n.01'),\n",
       " Synset('serviceman.n.01'),\n",
       " Synset('man.n.03'),\n",
       " Synset('homo.n.02'),\n",
       " Synset('man.n.05'),\n",
       " Synset('man.n.06'),\n",
       " Synset('valet.n.01'),\n",
       " Synset('man.n.08'),\n",
       " Synset('man.n.09'),\n",
       " Synset('man.n.10'),\n",
       " Synset('world.n.08'),\n",
       " Synset('man.v.01'),\n",
       " Synset('man.v.02')]"
      ]
     },
     "execution_count": 3,
     "metadata": {},
     "output_type": "execute_result"
    }
   ],
   "source": [
    "wn.synsets(\"man\")"
   ]
  },
  {
   "cell_type": "code",
   "execution_count": 4,
   "id": "1762b161",
   "metadata": {},
   "outputs": [
    {
     "data": {
      "text/plain": [
       "Synset('man.n.03')"
      ]
     },
     "execution_count": 4,
     "metadata": {},
     "output_type": "execute_result"
    }
   ],
   "source": [
    "wn.synset(\"man.n.03\")"
   ]
  },
  {
   "cell_type": "code",
   "execution_count": 5,
   "id": "135f625c",
   "metadata": {},
   "outputs": [
    {
     "name": "stdout",
     "output_type": "stream",
     "text": [
      "Defination :  the generic use of the word to refer to any human being\n"
     ]
    }
   ],
   "source": [
    "defi = wn.synset(\"man.n.03\").definition()\n",
    "print(\"Defination : \",defi)"
   ]
  },
  {
   "cell_type": "code",
   "execution_count": 6,
   "id": "b1457d0a",
   "metadata": {},
   "outputs": [
    {
     "name": "stdout",
     "output_type": "stream",
     "text": [
      "Example :  ['it was every man for himself']\n"
     ]
    }
   ],
   "source": [
    "ex = wn.synset(\"man.n.03\").examples()\n",
    "print(\"Example : \", ex)"
   ]
  },
  {
   "cell_type": "code",
   "execution_count": 7,
   "id": "906e4309",
   "metadata": {},
   "outputs": [
    {
     "data": {
      "text/plain": [
       "[Synset('male_child.n.01'),\n",
       " Synset('boy.n.02'),\n",
       " Synset('son.n.01'),\n",
       " Synset('boy.n.04')]"
      ]
     },
     "execution_count": 7,
     "metadata": {},
     "output_type": "execute_result"
    }
   ],
   "source": [
    "wn.synsets(\"boy\")"
   ]
  },
  {
   "cell_type": "code",
   "execution_count": 8,
   "id": "85ccf89b",
   "metadata": {},
   "outputs": [
    {
     "name": "stdout",
     "output_type": "stream",
     "text": [
      "Similarity :  0.6666666666666666\n"
     ]
    }
   ],
   "source": [
    "man = wn.synset('man.n.01')\n",
    "boy = wn.synset('male_child.n.01') \n",
    "\n",
    "print(\"Similarity : \",man.wup_similarity(boy)) "
   ]
  }
 ],
 "metadata": {
  "kernelspec": {
   "display_name": "Python 3 (ipykernel)",
   "language": "python",
   "name": "python3"
  },
  "language_info": {
   "codemirror_mode": {
    "name": "ipython",
    "version": 3
   },
   "file_extension": ".py",
   "mimetype": "text/x-python",
   "name": "python",
   "nbconvert_exporter": "python",
   "pygments_lexer": "ipython3",
   "version": "3.9.7"
  }
 },
 "nbformat": 4,
 "nbformat_minor": 5
}
