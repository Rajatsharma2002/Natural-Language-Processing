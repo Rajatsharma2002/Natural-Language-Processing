{
 "cells": [
  {
   "cell_type": "code",
   "execution_count": 1,
   "metadata": {},
   "outputs": [],
   "source": [
    "text='''I must be honest with you. I was about to go to sleep before I opened my mail and read your letter. Now I am wide awake, sitting upright, because you made me question my preferences between shoes and slippers. Be patient with me. I need proper peaceful sleep and let’s sort this out.\n",
    "I am a shoe person. Correction: I am a person obsessed with dry, dust-free feet. Whatever helps me keep a grip on my walk and posture in spite of my profusely sweaty feet, I am that person. Whatever keeps the grainy, pokey sensation of soil or sand in parts of my skin away, I am that person. I guess, I am a shoe person because it is loyal to my whole feet. Not making parts of it lying exposed and parts of it covered, without any symmetry. I am also cotton sock person, preferably red. Sometimes, I am a clean matte (anti-slippery) floor person. Basically, I am a person with issues.\n",
    "I really liked your host-guest theory of travelling, how we do not just get out of home when we travel, the home expands when we step foot at a place engulfing it into our comfort zone. But the thing is I wear socks all the time in my house, and open them when I go to bed, replacing the sock with a comforter. I guess I need that comfort zone close and maybe, mine is restricted to my own skin. So much so, that it doesn’t even include my own home. When I travel, I like wearing shoes, with a firm grip on myself, dust free, protected. When I face situations where I have to open them and I don’t want to, I usually wrinkle my nose. It doesn’t get better that I can’t wear those shoes again with a dirty feet. I take a handkerchief.\n",
    "Imagine my situation at the beach or in a hill stream, when the water feels soothing to my sweaty feet and removes the dust, only to attract more of it when I walk on the sand. I let it irritate me those times, because I always have the ocean and the river on my side. I like my bare feet drowning with no air bubbles left. I don’t like it when droplets of water make only a part of my feet wet, only to let me realise and miss the comfort of dry skin and scowl at the linger of irritation due to a little dampness. I don’t like it when I have to keep on brushing my left leg against my right to flatten the spheres of water. And repeat it with the right. I just realised why I don’t like drizzling rains.\n",
    "Eventually, when I have to get out of the water, I give up my fight with the dirt and wear those damn shoes with muddy feet. Those are the times I miss my slippery slippers. Don’t let my socks or shoes hear me say that. They do not know that sometimes I keep a back-up pair of red flip-flops for such scenarios. Does this make me a slipper person? I guess I am a slipper person when my feet are ankle deep in mud, so that there is no place for me to complain. No alternative. No uneasy half-done feeling. Otherwise, not much of a slipper person.\n",
    "I am a person who likes symmetry. All in or none at all. It’s difficult being me in this world with its shades of grey. But then, my favourite colour is red and thankfully it covers the entire spectrum. All I need is an emotion, and the rest is taken care of.\"\n",
    "Thank you for being the listener you are. This has been a selfish post. I used your letter for my sense of clarity. You always make me reflect and dig deep. I can finally sleep now. Goodnight.'''"
   ]
  },
  {
   "cell_type": "code",
   "execution_count": 2,
   "metadata": {},
   "outputs": [
    {
     "name": "stdout",
     "output_type": "stream",
     "text": [
      "['I must be honest with you.', 'I was about to go to sleep before I opened my mail and read your letter.', 'Now I am wide awake, sitting upright, because you made me question my preferences between shoes and slippers.', 'Be patient with me.', 'I need proper peaceful sleep and let’s sort this out.', 'I am a shoe person.', 'Correction: I am a person obsessed with dry, dust-free feet.', 'Whatever helps me keep a grip on my walk and posture in spite of my profusely sweaty feet, I am that person.', 'Whatever keeps the grainy, pokey sensation of soil or sand in parts of my skin away, I am that person.', 'I guess, I am a shoe person because it is loyal to my whole feet.', 'Not making parts of it lying exposed and parts of it covered, without any symmetry.', 'I am also cotton sock person, preferably red.', 'Sometimes, I am a clean matte (anti-slippery) floor person.', 'Basically, I am a person with issues.', 'I really liked your host-guest theory of travelling, how we do not just get out of home when we travel, the home expands when we step foot at a place engulfing it into our comfort zone.', 'But the thing is I wear socks all the time in my house, and open them when I go to bed, replacing the sock with a comforter.', 'I guess I need that comfort zone close and maybe, mine is restricted to my own skin.', 'So much so, that it doesn’t even include my own home.', 'When I travel, I like wearing shoes, with a firm grip on myself, dust free, protected.', 'When I face situations where I have to open them and I don’t want to, I usually wrinkle my nose.', 'It doesn’t get better that I can’t wear those shoes again with a dirty feet.', 'I take a handkerchief.', 'Imagine my situation at the beach or in a hill stream, when the water feels soothing to my sweaty feet and removes the dust, only to attract more of it when I walk on the sand.', 'I let it irritate me those times, because I always have the ocean and the river on my side.', 'I like my bare feet drowning with no air bubbles left.', 'I don’t like it when droplets of water make only a part of my feet wet, only to let me realise and miss the comfort of dry skin and scowl at the linger of irritation due to a little dampness.', 'I don’t like it when I have to keep on brushing my left leg against my right to flatten the spheres of water.', 'And repeat it with the right.', 'I just realised why I don’t like drizzling rains.', 'Eventually, when I have to get out of the water, I give up my fight with the dirt and wear those damn shoes with muddy feet.', 'Those are the times I miss my slippery slippers.', 'Don’t let my socks or shoes hear me say that.', 'They do not know that sometimes I keep a back-up pair of red flip-flops for such scenarios.', 'Does this make me a slipper person?', 'I guess I am a slipper person when my feet are ankle deep in mud, so that there is no place for me to complain.', 'No alternative.', 'No uneasy half-done feeling.', 'Otherwise, not much of a slipper person.', 'I am a person who likes symmetry.', 'All in or none at all.', 'It’s difficult being me in this world with its shades of grey.', 'But then, my favourite colour is red and thankfully it covers the entire spectrum.', 'All I need is an emotion, and the rest is taken care of.\"', 'Thank you for being the listener you are.', 'This has been a selfish post.', 'I used your letter for my sense of clarity.', 'You always make me reflect and dig deep.', 'I can finally sleep now.', 'Goodnight.']\n"
     ]
    }
   ],
   "source": [
    "import nltk\n",
    "from nltk import tokenize\n",
    "lines=tokenize.sent_tokenize(text)\n",
    "print(lines)"
   ]
  },
  {
   "cell_type": "code",
   "execution_count": 3,
   "metadata": {},
   "outputs": [
    {
     "name": "stdout",
     "output_type": "stream",
     "text": [
      "total line in the given paragraph = 49\n"
     ]
    }
   ],
   "source": [
    "print(\"total line in the given paragraph =\",len(lines))"
   ]
  },
  {
   "cell_type": "code",
   "execution_count": 12,
   "metadata": {},
   "outputs": [
    {
     "name": "stdout",
     "output_type": "stream",
     "text": [
      "['I', 'must', 'be', 'honest', 'with', 'you', '.', 'I', 'was', 'about', 'to', 'go', 'to', 'sleep', 'before', 'I', 'opened', 'my', 'mail', 'and', 'read', 'your', 'letter', '.', 'Now', 'I', 'am', 'wide', 'awake', ',', 'sitting', 'upright', ',', 'because', 'you', 'made', 'me', 'question', 'my', 'preferences', 'between', 'shoes', 'and', 'slippers', '.', 'Be', 'patient', 'with', 'me', '.', 'I', 'need', 'proper', 'peaceful', 'sleep', 'and', 'let', '’', 's', 'sort', 'this', 'out', '.', 'I', 'am', 'a', 'shoe', 'person', '.', 'Correction', ':', 'I', 'am', 'a', 'person', 'obsessed', 'with', 'dry', ',', 'dust-free', 'feet', '.', 'Whatever', 'helps', 'me', 'keep', 'a', 'grip', 'on', 'my', 'walk', 'and', 'posture', 'in', 'spite', 'of', 'my', 'profusely', 'sweaty', 'feet', ',', 'I', 'am', 'that', 'person', '.', 'Whatever', 'keeps', 'the', 'grainy', ',', 'pokey', 'sensation', 'of', 'soil', 'or', 'sand', 'in', 'parts', 'of', 'my', 'skin', 'away', ',', 'I', 'am', 'that', 'person', '.', 'I', 'guess', ',', 'I', 'am', 'a', 'shoe', 'person', 'because', 'it', 'is', 'loyal', 'to', 'my', 'whole', 'feet', '.', 'Not', 'making', 'parts', 'of', 'it', 'lying', 'exposed', 'and', 'parts', 'of', 'it', 'covered', ',', 'without', 'any', 'symmetry', '.', 'I', 'am', 'also', 'cotton', 'sock', 'person', ',', 'preferably', 'red', '.', 'Sometimes', ',', 'I', 'am', 'a', 'clean', 'matte', '(', 'anti-slippery', ')', 'floor', 'person', '.', 'Basically', ',', 'I', 'am', 'a', 'person', 'with', 'issues', '.', 'I', 'really', 'liked', 'your', 'host-guest', 'theory', 'of', 'travelling', ',', 'how', 'we', 'do', 'not', 'just', 'get', 'out', 'of', 'home', 'when', 'we', 'travel', ',', 'the', 'home', 'expands', 'when', 'we', 'step', 'foot', 'at', 'a', 'place', 'engulfing', 'it', 'into', 'our', 'comfort', 'zone', '.', 'But', 'the', 'thing', 'is', 'I', 'wear', 'socks', 'all', 'the', 'time', 'in', 'my', 'house', ',', 'and', 'open', 'them', 'when', 'I', 'go', 'to', 'bed', ',', 'replacing', 'the', 'sock', 'with', 'a', 'comforter', '.', 'I', 'guess', 'I', 'need', 'that', 'comfort', 'zone', 'close', 'and', 'maybe', ',', 'mine', 'is', 'restricted', 'to', 'my', 'own', 'skin', '.', 'So', 'much', 'so', ',', 'that', 'it', 'doesn', '’', 't', 'even', 'include', 'my', 'own', 'home', '.', 'When', 'I', 'travel', ',', 'I', 'like', 'wearing', 'shoes', ',', 'with', 'a', 'firm', 'grip', 'on', 'myself', ',', 'dust', 'free', ',', 'protected', '.', 'When', 'I', 'face', 'situations', 'where', 'I', 'have', 'to', 'open', 'them', 'and', 'I', 'don', '’', 't', 'want', 'to', ',', 'I', 'usually', 'wrinkle', 'my', 'nose', '.', 'It', 'doesn', '’', 't', 'get', 'better', 'that', 'I', 'can', '’', 't', 'wear', 'those', 'shoes', 'again', 'with', 'a', 'dirty', 'feet', '.', 'I', 'take', 'a', 'handkerchief', '.', 'Imagine', 'my', 'situation', 'at', 'the', 'beach', 'or', 'in', 'a', 'hill', 'stream', ',', 'when', 'the', 'water', 'feels', 'soothing', 'to', 'my', 'sweaty', 'feet', 'and', 'removes', 'the', 'dust', ',', 'only', 'to', 'attract', 'more', 'of', 'it', 'when', 'I', 'walk', 'on', 'the', 'sand', '.', 'I', 'let', 'it', 'irritate', 'me', 'those', 'times', ',', 'because', 'I', 'always', 'have', 'the', 'ocean', 'and', 'the', 'river', 'on', 'my', 'side', '.', 'I', 'like', 'my', 'bare', 'feet', 'drowning', 'with', 'no', 'air', 'bubbles', 'left', '.', 'I', 'don', '’', 't', 'like', 'it', 'when', 'droplets', 'of', 'water', 'make', 'only', 'a', 'part', 'of', 'my', 'feet', 'wet', ',', 'only', 'to', 'let', 'me', 'realise', 'and', 'miss', 'the', 'comfort', 'of', 'dry', 'skin', 'and', 'scowl', 'at', 'the', 'linger', 'of', 'irritation', 'due', 'to', 'a', 'little', 'dampness', '.', 'I', 'don', '’', 't', 'like', 'it', 'when', 'I', 'have', 'to', 'keep', 'on', 'brushing', 'my', 'left', 'leg', 'against', 'my', 'right', 'to', 'flatten', 'the', 'spheres', 'of', 'water', '.', 'And', 'repeat', 'it', 'with', 'the', 'right', '.', 'I', 'just', 'realised', 'why', 'I', 'don', '’', 't', 'like', 'drizzling', 'rains', '.', 'Eventually', ',', 'when', 'I', 'have', 'to', 'get', 'out', 'of', 'the', 'water', ',', 'I', 'give', 'up', 'my', 'fight', 'with', 'the', 'dirt', 'and', 'wear', 'those', 'damn', 'shoes', 'with', 'muddy', 'feet', '.', 'Those', 'are', 'the', 'times', 'I', 'miss', 'my', 'slippery', 'slippers', '.', 'Don', '’', 't', 'let', 'my', 'socks', 'or', 'shoes', 'hear', 'me', 'say', 'that', '.', 'They', 'do', 'not', 'know', 'that', 'sometimes', 'I', 'keep', 'a', 'back-up', 'pair', 'of', 'red', 'flip-flops', 'for', 'such', 'scenarios', '.', 'Does', 'this', 'make', 'me', 'a', 'slipper', 'person', '?', 'I', 'guess', 'I', 'am', 'a', 'slipper', 'person', 'when', 'my', 'feet', 'are', 'ankle', 'deep', 'in', 'mud', ',', 'so', 'that', 'there', 'is', 'no', 'place', 'for', 'me', 'to', 'complain', '.', 'No', 'alternative', '.', 'No', 'uneasy', 'half-done', 'feeling', '.', 'Otherwise', ',', 'not', 'much', 'of', 'a', 'slipper', 'person', '.', 'I', 'am', 'a', 'person', 'who', 'likes', 'symmetry', '.', 'All', 'in', 'or', 'none', 'at', 'all', '.', 'It', '’', 's', 'difficult', 'being', 'me', 'in', 'this', 'world', 'with', 'its', 'shades', 'of', 'grey', '.', 'But', 'then', ',', 'my', 'favourite', 'colour', 'is', 'red', 'and', 'thankfully', 'it', 'covers', 'the', 'entire', 'spectrum', '.', 'All', 'I', 'need', 'is', 'an', 'emotion', ',', 'and', 'the', 'rest', 'is', 'taken', 'care', 'of', '.', \"''\", 'Thank', 'you', 'for', 'being', 'the', 'listener', 'you', 'are', '.', 'This', 'has', 'been', 'a', 'selfish', 'post', '.', 'I', 'used', 'your', 'letter', 'for', 'my', 'sense', 'of', 'clarity', '.', 'You', 'always', 'make', 'me', 'reflect', 'and', 'dig', 'deep', '.', 'I', 'can', 'finally', 'sleep', 'now', '.', 'Goodnight', '.']\n"
     ]
    }
   ],
   "source": [
    "words1=tokenize.word_tokenize(text)\n",
    "print(words1)"
   ]
  },
  {
   "cell_type": "code",
   "execution_count": 5,
   "metadata": {},
   "outputs": [
    {
     "name": "stdout",
     "output_type": "stream",
     "text": [
      "Total number of words in the paragraph are 756\n"
     ]
    }
   ],
   "source": [
    "# printing total words present in the text or paragraph\n",
    "print(\"Total number of words in the paragraph are\",len(words1))"
   ]
  },
  {
   "cell_type": "code",
   "execution_count": 6,
   "metadata": {},
   "outputs": [
    {
     "name": "stdout",
     "output_type": "stream",
     "text": [
      "Orignal Length 756\n",
      "Length After Removing Puntuation 671\n"
     ]
    }
   ],
   "source": [
    "# storing the all types of puntuations in a variable\n",
    "import string\n",
    "output= string.punctuation\n",
    "\n",
    "# removing all puntuations from text\n",
    "def punctuation_cleaning(intext):\n",
    "    return text.translate(str.maketrans('', '', output))\n",
    "a=punctuation_cleaning(text)\n",
    "# print('\\nNo-punctuation:',a)\n",
    "\n",
    "# changing the updated text to words\n",
    "# print(\"Words After Removing Puntuation :\")\n",
    "words2=tokenize.word_tokenize(a)\n",
    "# print(words)\n",
    "print(f\"Orignal Length {len(words1)}\\nLength After Removing Puntuation {len(words2)}\")"
   ]
  },
  {
   "cell_type": "code",
   "execution_count": 7,
   "metadata": {},
   "outputs": [
    {
     "name": "stdout",
     "output_type": "stream",
     "text": [
      "Length of Original Paragraph- 756\n",
      "Length After Removing Puntuation- 671\n",
      "Length After Stemming 263\n"
     ]
    }
   ],
   "source": [
    "# applying stemming operation on the text \n",
    "\n",
    "from nltk.stem.porter import PorterStemmer\n",
    "ps = PorterStemmer()\n",
    "# print('Original words-', words)\n",
    "print('Length of Original Paragraph-', len(words1))\n",
    "print('Length After Removing Puntuation-', len(words2))\n",
    "stem_words=set()\n",
    "for word in words2:\n",
    "    root_word= ps.stem(word)\n",
    "    stem_words.add(root_word)\n",
    "# print(\"\\n\\nWords After stemming -\", stem_words)\n",
    "print(\"Length After Stemming\",len(stem_words))"
   ]
  },
  {
   "cell_type": "code",
   "execution_count": 8,
   "metadata": {},
   "outputs": [
    {
     "name": "stdout",
     "output_type": "stream",
     "text": [
      "Length of Original Paragraph- 756\n",
      "Length After Removing Puntuation- 671\n",
      "Length After Lemmatization- 285\n"
     ]
    }
   ],
   "source": [
    "# applying lemmatization on the text \n",
    "\n",
    "from nltk.stem import WordNetLemmatizer\n",
    "wml = WordNetLemmatizer()\n",
    "# print('Original words-\\n',words)\n",
    "print('Length of Original Paragraph-', len(words1))\n",
    "print('Length After Removing Puntuation-', len(words2))\n",
    "lemma_words=set()\n",
    "for word in words2:\n",
    "    tokens = wml.lemmatize(word)\n",
    "    lemma_words.add(tokens)\n",
    "# print(\"\\n\\nWords After lemmatization\\n\", lemma_words)\n",
    "print(\"Length After Lemmatization-\",len(lemma_words))"
   ]
  },
  {
   "cell_type": "code",
   "execution_count": 9,
   "metadata": {},
   "outputs": [
    {
     "name": "stdout",
     "output_type": "stream",
     "text": [
      "Total words in the paragraph- 756\n",
      "Total Words After Lemmatization- 285\n",
      "Total words after removing stop-words- 221\n"
     ]
    }
   ],
   "source": [
    "#eleminating stopwords from the paragraph or text\n",
    "from nltk.tokenize import word_tokenize\n",
    "words=word_tokenize(text)\n",
    "print(\"Total words in the paragraph-\",len(words))\n",
    "print(\"Total Words After Lemmatization-\",len(lemma_words))\n",
    "\n",
    "from nltk.corpus import stopwords\n",
    "filter_words = set()\n",
    "Stopwords = (stopwords.words('english'))\n",
    "\n",
    "for w in lemma_words:\n",
    "    if w not in Stopwords:\n",
    "         filter_words.add(w)\n",
    "print(\"Total words after removing stop-words-\",len(filter_words))\n",
    "# print(filter_words)"
   ]
  },
  {
   "cell_type": "code",
   "execution_count": 14,
   "metadata": {},
   "outputs": [
    {
     "name": "stdout",
     "output_type": "stream",
     "text": [
      "I must be honest with you.\n",
      "I was about to go to sleep before I opened my mail and read your letter.\n",
      "Now I am wide awake, sitting upright, because you made me question my preferences between shoes and slippers.\n",
      "Be patient with me.\n",
      "I need proper peaceful sleep and let’s sort this out.\n",
      "I am a shoe person.\n",
      "Correction: I am a person obsessed with dry, dust-free feet.\n",
      "Whatever helps me keep a grip on my walk and posture in spite of my profusely sweaty feet, I am that person.\n",
      "Whatever keeps the grainy, pokey sensation of soil or sand in parts of my skin away, I am that person.\n",
      "I guess, I am a shoe person because it is loyal to my whole feet.\n",
      "Not making parts of it lying exposed and parts of it covered, without any symmetry.\n",
      "I am also cotton sock person, preferably red.\n",
      "Sometimes, I am a clean matte (anti-slippery) floor person.\n",
      "Basically, I am a person with issues.\n",
      "I really liked your host-guest theory of travelling, how we do not just get out of home when we travel, the home expands when we step foot at a place engulfing it into our comfort zone.\n",
      "But the thing is I wear socks all the time in my house, and open them when I go to bed, replacing the sock with a comforter.\n",
      "I guess I need that comfort zone close and maybe, mine is restricted to my own skin.\n",
      "So much so, that it doesn’t even include my own home.\n",
      "When I travel, I like wearing shoes, with a firm grip on myself, dust free, protected.\n",
      "When I face situations where I have to open them and I don’t want to, I usually wrinkle my nose.\n",
      "It doesn’t get better that I can’t wear those shoes again with a dirty feet.\n",
      "I take a handkerchief.\n",
      "Imagine my situation at the beach or in a hill stream, when the water feels soothing to my sweaty feet and removes the dust, only to attract more of it when I walk on the sand.\n",
      "I let it irritate me those times, because I always have the ocean and the river on my side.\n",
      "I like my bare feet drowning with no air bubbles left.\n",
      "I don’t like it when droplets of water make only a part of my feet wet, only to let me realise and miss the comfort of dry skin and scowl at the linger of irritation due to a little dampness.\n",
      "I don’t like it when I have to keep on brushing my left leg against my right to flatten the spheres of water.\n",
      "And repeat it with the right.\n",
      "I just realised why I don’t like drizzling rains.\n",
      "Eventually, when I have to get out of the water, I give up my fight with the dirt and wear those damn shoes with muddy feet.\n",
      "Those are the times I miss my slippery slippers.\n",
      "Don’t let my socks or shoes hear me say that.\n",
      "They do not know that sometimes I keep a back-up pair of red flip-flops for such scenarios.\n",
      "Does this make me a slipper person?\n",
      "I guess I am a slipper person when my feet are ankle deep in mud, so that there is no place for me to complain.\n",
      "No alternative.\n",
      "No uneasy half-done feeling.\n",
      "Otherwise, not much of a slipper person.\n",
      "I am a person who likes symmetry.\n",
      "All in or none at all.\n",
      "It’s difficult being me in this world with its shades of grey.\n",
      "But then, my favourite colour is red and thankfully it covers the entire spectrum.\n",
      "All I need is an emotion, and the rest is taken care of.\"\n",
      "Thank you for being the listener you are.\n",
      "This has been a selfish post.\n",
      "I used your letter for my sense of clarity.\n",
      "You always make me reflect and dig deep.\n",
      "I can finally sleep now.\n",
      "Goodnight.\n"
     ]
    }
   ],
   "source": [
    "lines=tokenize.sent_tokenize(text)\n",
    "for i in lines:\n",
    "    print(i)\n"
   ]
  },
  {
   "cell_type": "code",
   "execution_count": null,
   "metadata": {},
   "outputs": [],
   "source": []
  },
  {
   "cell_type": "code",
   "execution_count": null,
   "metadata": {},
   "outputs": [],
   "source": []
  }
 ],
 "metadata": {
  "kernelspec": {
   "display_name": "Python 3",
   "language": "python",
   "name": "python3"
  },
  "language_info": {
   "codemirror_mode": {
    "name": "ipython",
    "version": 3
   },
   "file_extension": ".py",
   "mimetype": "text/x-python",
   "name": "python",
   "nbconvert_exporter": "python",
   "pygments_lexer": "ipython3",
   "version": "3.7.3"
  }
 },
 "nbformat": 4,
 "nbformat_minor": 2
}
