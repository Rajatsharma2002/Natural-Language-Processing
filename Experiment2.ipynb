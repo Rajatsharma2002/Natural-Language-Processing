{
 "cells": [
  {
   "cell_type": "code",
   "execution_count": 1,
   "metadata": {},
   "outputs": [],
   "source": [
    "import re"
   ]
  },
  {
   "cell_type": "code",
   "execution_count": 2,
   "metadata": {},
   "outputs": [
    {
     "name": "stdout",
     "output_type": "stream",
     "text": [
      "['g', 'o', 'p', 'o', 'p', 'o', 'p', 'l', 'o', 'm', 'i', 'n', 'g', 'o', 'n']\n"
     ]
    }
   ],
   "source": [
    "# finding characters from a specified list\n",
    "s=\"group of people roaming around\"\n",
    "output=re.findall(\"[g-p]\",s)\n",
    "print(output)"
   ]
  },
  {
   "cell_type": "code",
   "execution_count": 3,
   "metadata": {},
   "outputs": [
    {
     "name": "stdout",
     "output_type": "stream",
     "text": [
      "String Found : ['g', 'o', 'p', 'o', 'p', 'o', 'p', 'l', 'o', 'm', 'i', 'n', 'g', 'o', 'n']\n"
     ]
    }
   ],
   "source": [
    "# searching the string \n",
    "# ^ = starts with and $ = ends with\n",
    "string=\"Hello, how are you ?\"\n",
    "output1=re.search(\"^Hello.*?$\",string)\n",
    "if(output!=None):\n",
    "    print(f\"String Found : {output}\")\n",
    "else:\n",
    "    print(\"String not Found\")"
   ]
  },
  {
   "cell_type": "code",
   "execution_count": 4,
   "metadata": {},
   "outputs": [
    {
     "name": "stdout",
     "output_type": "stream",
     "text": [
      "output when number is specified : ['Hello', 'Hello']\n",
      "output when number not specified : ['how']\n"
     ]
    }
   ],
   "source": [
    "# finding particular word from a string\n",
    "# {}=specified number , ? = 0 or 1 occurance, .=anychararcter at that place\n",
    "a=\"Hello world , Hello how are you\"\n",
    "output2=re.findall(\"He.{2}?o\",a)\n",
    "# output2=re.findall(\"He.?o\")\n",
    "output3=re.findall(\"h.?w\",a)\n",
    "print(f\"output when number is specified : {output2}\\noutput when number not specified : {output3}\")"
   ]
  },
  {
   "cell_type": "code",
   "execution_count": 5,
   "metadata": {},
   "outputs": [
    {
     "name": "stdout",
     "output_type": "stream",
     "text": [
      "['at', 'at']\n"
     ]
    }
   ],
   "source": [
    "# finding word from string (present or not) \n",
    "b=\"the cab driver arrived late at pickup point\"\n",
    "output4=re.findall(\"at\",b)\n",
    "print(output4)"
   ]
  },
  {
   "cell_type": "code",
   "execution_count": 6,
   "metadata": {},
   "outputs": [
    {
     "name": "stdout",
     "output_type": "stream",
     "text": [
      "Specified Character at the begining :  <re.Match object; span=(0, 1), match='I'>\n",
      "\n",
      "Specified character at end of word :  <re.Match object; span=(7, 9), match='ry'>\n",
      "\n",
      "Specified String present but not at begining :  ['ry', 'ry']\n",
      "\n",
      "Match if string contains digit :  <re.Match object; span=(26, 27), match='9'>\n",
      "\n",
      "Match if string does NOT contains digit <re.Match object; span=(0, 1), match='I'> \n",
      " ['I', ' ', 'a', 'm', ' ', 'v', 'e', 'r', 'y', ' ', 'H', 'u', 'n', 'g', 'r', 'y', ' ', 'l', 'e', 't', 's', ' ', 'e', 'a', 't', ' ', ' ', 's', 'o', 'm', 'e', 't', 'h', 'i', 'n', 'g', ' ', 'f', 'r', 'e', 's', 'h']\n",
      "\n",
      "Match if string contains a white space :  <re.Match object; span=(1, 2), match=' '> \n",
      " [' ', ' ', ' ', ' ', ' ', ' ', ' ', ' ']\n",
      "\n",
      "Match if string Does NOT contains a white space :  <re.Match object; span=(0, 1), match='I'> \n",
      " ['I', 'a', 'm', 'v', 'e', 'r', 'y', 'H', 'u', 'n', 'g', 'r', 'y', 'l', 'e', 't', 's', 'e', 'a', 't', '9', '9', 's', 'o', 'm', 'e', 't', 'h', 'i', 'n', 'g', 'f', 'r', 'e', 's', 'h']\n",
      "\n",
      "Match if string contains any word or digit :  ['I', 'a', 'm', 'v', 'e', 'r', 'y', 'H', 'u', 'n', 'g', 'r', 'y', 'l', 'e', 't', 's', 'e', 'a', 't', '9', '9', 's', 'o', 'm', 'e', 't', 'h', 'i', 'n', 'g', 'f', 'r', 'e', 's', 'h']\n",
      "\n",
      "Match if string does not contain any word character :  [' ', ' ', ' ', ' ', ' ', ' ', ' ', ' ']\n",
      "\n",
      "Match if specified character at end of string :  ['fresh']\n"
     ]
    }
   ],
   "source": [
    "# special sequences\n",
    "c=\"I am very Hungry lets eat 99 something fresh\"\n",
    "print(\"Specified Character at the begining : \",re.search(\"\\AI\",c))\n",
    "print(\"\\nSpecified character at end of word : \",re.search(r\"ry\\b\",c))\n",
    "print(\"\\nSpecified String present but not at begining : \",re.findall(r\"\\Bry\",c))\n",
    "print(\"\\nMatch if string contains digit : \",re.search(\"\\d\",c))\n",
    "print(\"\\nMatch if string does NOT contains digit\",re.search(\"\\D\",c),\"\\n\",re.findall(\"\\D\",c))\n",
    "print(\"\\nMatch if string contains a white space : \",re.search(\"\\s\",c),\"\\n\",re.findall(\"\\s\",c))\n",
    "print(\"\\nMatch if string Does NOT contains a white space : \",re.search(\"\\S\",c),\"\\n\",re.findall(\"\\S\",c))\n",
    "print(\"\\nMatch if string contains any word or digit : \",re.findall(\"\\w\",c))\n",
    "print(\"\\nMatch if string does not contain any word character : \",re.findall(\"\\W\",c))\n",
    "print(\"\\nMatch if specified character at end of string : \",re.findall(\"fresh\\Z\",c))"
   ]
  },
  {
   "cell_type": "code",
   "execution_count": 7,
   "metadata": {},
   "outputs": [
    {
     "name": "stdout",
     "output_type": "stream",
     "text": [
      "['the', 'cab', 'driver', 'arrived', 'late', 'at', 'pickup', 'point']\n",
      "['I', 'am', 'very', 'Hungry', 'lets', 'eat', '99', 'something', 'fresh']\n",
      "['Hello', 'world', ',', 'Hello', 'how', 'are', 'you']\n"
     ]
    }
   ],
   "source": [
    "# split function\n",
    "# splits the whole string \n",
    "output4=re.split(\"\\s\",b)\n",
    "print(output4)\n",
    "print(re.split(\"\\s\",c))\n",
    "print(re.split(\"\\s\",a))"
   ]
  },
  {
   "cell_type": "code",
   "execution_count": 8,
   "metadata": {},
   "outputs": [
    {
     "name": "stdout",
     "output_type": "stream",
     "text": [
      "Simple Split : ['the', 'cab', 'driver', 'arrived', 'late', 'at', 'pickup', 'point'] \n",
      "Specified white space split : ['the', 'cab', 'driver arrived late at pickup point']\n"
     ]
    }
   ],
   "source": [
    "# splitting string according to white space\n",
    "output5=re.split(\"\\s\",b,2) #here 2 is number of white space till we have to split\n",
    "# print(output5)\n",
    "print(f'Simple Split : {output4} \\nSpecified white space split : {output5}')"
   ]
  },
  {
   "cell_type": "code",
   "execution_count": 9,
   "metadata": {},
   "outputs": [
    {
     "name": "stdout",
     "output_type": "stream",
     "text": [
      "Original String : I am very Hungry lets eat 99 something fresh\n",
      "Modified String : I am very Hungry lets eat hihi something fresh\n"
     ]
    }
   ],
   "source": [
    "# sub function \n",
    "output6=re.sub(\"\\d\",'hi',c)\n",
    "print(f\"Original String : {c}\\nModified String : {output6}\")"
   ]
  },
  {
   "cell_type": "code",
   "execution_count": 10,
   "metadata": {},
   "outputs": [
    {
     "name": "stdout",
     "output_type": "stream",
     "text": [
      "Original String : I am very Hungry lets eat 99 something fresh\n",
      "Simple sub : I_space_am_space_very_space_Hungry_space_lets_space_eat_space_99_space_something_space_fresh\n",
      "White space sub : I_space_am_space_very Hungry lets eat 99 something fresh\n"
     ]
    }
   ],
   "source": [
    "output7a=re.sub(\"\\s\",\"_space_\",c)\n",
    "# print(output7)\n",
    "output7b=re.sub(\"\\s\",\"_space_\",c,2) #Substituting till a specified white space\n",
    "print(f\"Original String : {c}\\nSimple sub : {output7a}\\nWhite space sub : {output7b}\")"
   ]
  },
  {
   "cell_type": "code",
   "execution_count": 11,
   "metadata": {},
   "outputs": [
    {
     "name": "stdout",
     "output_type": "stream",
     "text": [
      "span : (13, 20)\n",
      "String : Hello i am a machine learning enthusiast , Pursuing my degree from UPES\n",
      "Group : machine\n"
     ]
    }
   ],
   "source": [
    "# span= return start and end index , string = returns string passed in function ,group=return matched string\n",
    "d=\"Hello i am a machine learning enthusiast , Pursuing my degree from UPES\"\n",
    "output8=re.search(\"m\\w+\",d)\n",
    "print(f\"span : {output8.span()}\\nString : {output8.string}\\nGroup : {output8.group()}\")"
   ]
  },
  {
   "cell_type": "code",
   "execution_count": null,
   "metadata": {},
   "outputs": [],
   "source": []
  }
 ],
 "metadata": {
  "kernelspec": {
   "display_name": "Python 3",
   "language": "python",
   "name": "python3"
  },
  "language_info": {
   "codemirror_mode": {
    "name": "ipython",
    "version": 3
   },
   "file_extension": ".py",
   "mimetype": "text/x-python",
   "name": "python",
   "nbconvert_exporter": "python",
   "pygments_lexer": "ipython3",
   "version": "3.7.3"
  }
 },
 "nbformat": 4,
 "nbformat_minor": 2
}
