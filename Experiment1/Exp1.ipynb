{
 "cells": [
  {
   "cell_type": "code",
   "execution_count": 1,
   "metadata": {},
   "outputs": [],
   "source": [
    "import pandas as pd\n",
    "import numpy as np"
   ]
  },
  {
   "cell_type": "code",
   "execution_count": 2,
   "metadata": {},
   "outputs": [],
   "source": [
    "df=pd.read_csv(\"train_triplets_sample.txt\",delimiter='\t')"
   ]
  },
  {
   "cell_type": "code",
   "execution_count": 3,
   "metadata": {},
   "outputs": [
    {
     "data": {
      "text/html": [
       "<div>\n",
       "<style scoped>\n",
       "    .dataframe tbody tr th:only-of-type {\n",
       "        vertical-align: middle;\n",
       "    }\n",
       "\n",
       "    .dataframe tbody tr th {\n",
       "        vertical-align: top;\n",
       "    }\n",
       "\n",
       "    .dataframe thead th {\n",
       "        text-align: right;\n",
       "    }\n",
       "</style>\n",
       "<table border=\"1\" class=\"dataframe\">\n",
       "  <thead>\n",
       "    <tr style=\"text-align: right;\">\n",
       "      <th></th>\n",
       "      <th>User</th>\n",
       "      <th>Song</th>\n",
       "      <th>Play_count</th>\n",
       "    </tr>\n",
       "  </thead>\n",
       "  <tbody>\n",
       "    <tr>\n",
       "      <th>0</th>\n",
       "      <td>b80344d063b5ccb3212f76538f3d9e43d87dca9e</td>\n",
       "      <td>SOAKIMP12A8C130995</td>\n",
       "      <td>1</td>\n",
       "    </tr>\n",
       "    <tr>\n",
       "      <th>1</th>\n",
       "      <td>b80344d063b5ccb3212f76538f3d9e43d87dca9e</td>\n",
       "      <td>SOAPDEY12A81C210A9</td>\n",
       "      <td>1</td>\n",
       "    </tr>\n",
       "    <tr>\n",
       "      <th>2</th>\n",
       "      <td>b80344d063b5ccb3212f76538f3d9e43d87dca9e</td>\n",
       "      <td>SOBBMDR12A8C13253B</td>\n",
       "      <td>2</td>\n",
       "    </tr>\n",
       "    <tr>\n",
       "      <th>3</th>\n",
       "      <td>b80344d063b5ccb3212f76538f3d9e43d87dca9e</td>\n",
       "      <td>SOBFNSP12AF72A0E22</td>\n",
       "      <td>1</td>\n",
       "    </tr>\n",
       "    <tr>\n",
       "      <th>4</th>\n",
       "      <td>b80344d063b5ccb3212f76538f3d9e43d87dca9e</td>\n",
       "      <td>SOBFOVM12A58A7D494</td>\n",
       "      <td>1</td>\n",
       "    </tr>\n",
       "  </tbody>\n",
       "</table>\n",
       "</div>"
      ],
      "text/plain": [
       "                                       User                Song  Play_count\n",
       "0  b80344d063b5ccb3212f76538f3d9e43d87dca9e  SOAKIMP12A8C130995           1\n",
       "1  b80344d063b5ccb3212f76538f3d9e43d87dca9e  SOAPDEY12A81C210A9           1\n",
       "2  b80344d063b5ccb3212f76538f3d9e43d87dca9e  SOBBMDR12A8C13253B           2\n",
       "3  b80344d063b5ccb3212f76538f3d9e43d87dca9e  SOBFNSP12AF72A0E22           1\n",
       "4  b80344d063b5ccb3212f76538f3d9e43d87dca9e  SOBFOVM12A58A7D494           1"
      ]
     },
     "execution_count": 3,
     "metadata": {},
     "output_type": "execute_result"
    }
   ],
   "source": [
    "df.head()"
   ]
  },
  {
   "cell_type": "code",
   "execution_count": 4,
   "metadata": {},
   "outputs": [
    {
     "data": {
      "text/plain": [
       "(2000, 3)"
      ]
     },
     "execution_count": 4,
     "metadata": {},
     "output_type": "execute_result"
    }
   ],
   "source": [
    "df.shape"
   ]
  },
  {
   "cell_type": "code",
   "execution_count": 5,
   "metadata": {},
   "outputs": [
    {
     "data": {
      "text/plain": [
       "User          0\n",
       "Song          0\n",
       "Play_count    0\n",
       "dtype: int64"
      ]
     },
     "execution_count": 5,
     "metadata": {},
     "output_type": "execute_result"
    }
   ],
   "source": [
    "df.isnull().sum()"
   ]
  },
  {
   "cell_type": "code",
   "execution_count": 6,
   "metadata": {},
   "outputs": [
    {
     "data": {
      "text/html": [
       "<div>\n",
       "<style scoped>\n",
       "    .dataframe tbody tr th:only-of-type {\n",
       "        vertical-align: middle;\n",
       "    }\n",
       "\n",
       "    .dataframe tbody tr th {\n",
       "        vertical-align: top;\n",
       "    }\n",
       "\n",
       "    .dataframe thead th {\n",
       "        text-align: right;\n",
       "    }\n",
       "</style>\n",
       "<table border=\"1\" class=\"dataframe\">\n",
       "  <thead>\n",
       "    <tr style=\"text-align: right;\">\n",
       "      <th></th>\n",
       "      <th>Play_count</th>\n",
       "    </tr>\n",
       "  </thead>\n",
       "  <tbody>\n",
       "    <tr>\n",
       "      <th>count</th>\n",
       "      <td>2000.000000</td>\n",
       "    </tr>\n",
       "    <tr>\n",
       "      <th>mean</th>\n",
       "      <td>2.535500</td>\n",
       "    </tr>\n",
       "    <tr>\n",
       "      <th>std</th>\n",
       "      <td>2.912728</td>\n",
       "    </tr>\n",
       "    <tr>\n",
       "      <th>min</th>\n",
       "      <td>1.000000</td>\n",
       "    </tr>\n",
       "    <tr>\n",
       "      <th>25%</th>\n",
       "      <td>1.000000</td>\n",
       "    </tr>\n",
       "    <tr>\n",
       "      <th>50%</th>\n",
       "      <td>1.000000</td>\n",
       "    </tr>\n",
       "    <tr>\n",
       "      <th>75%</th>\n",
       "      <td>3.000000</td>\n",
       "    </tr>\n",
       "    <tr>\n",
       "      <th>max</th>\n",
       "      <td>28.000000</td>\n",
       "    </tr>\n",
       "  </tbody>\n",
       "</table>\n",
       "</div>"
      ],
      "text/plain": [
       "        Play_count\n",
       "count  2000.000000\n",
       "mean      2.535500\n",
       "std       2.912728\n",
       "min       1.000000\n",
       "25%       1.000000\n",
       "50%       1.000000\n",
       "75%       3.000000\n",
       "max      28.000000"
      ]
     },
     "execution_count": 6,
     "metadata": {},
     "output_type": "execute_result"
    }
   ],
   "source": [
    "df.describe()"
   ]
  },
  {
   "cell_type": "code",
   "execution_count": 21,
   "metadata": {},
   "outputs": [
    {
     "name": "stdout",
     "output_type": "stream",
     "text": [
      "unique user play_count : \n",
      "\n",
      "                                        User  Play_count\n",
      "0   0afaa5d9d04bf85af720fe8cc566a41ca3e41c97         107\n",
      "1   12768858f6a825452e412deb1df36d2d1d9c6791          41\n",
      "2   169f9f4c68b62d1887c7c0ac99d10a79cfca5daf          34\n",
      "3   17aa9f6dbdf753831da8f38c71b66b64373de613         208\n",
      "4   2c42e6551311710ca5a839d62058820a42ead493         135\n",
      "5   403b3b867fc71dfdcc12652f30e88bdc7ccd9aa4          58\n",
      "6   405d396ea64d75b5eaefaaf8ac836f45fa56af4d         134\n",
      "7   45544491ccfcdc0b0803c34f201a6287ed4e30f8          39\n",
      "8   4bd88bfb25263a75bbdd467e74018f4ae570e5df          95\n",
      "9   5a905f000fc1ff3df7ca807d57edb608863db05d        1422\n",
      "10  81bde1c3a845c64f1677bd9d28f2da85dfefcf30          28\n",
      "11  85c1f87fea955d09b4bec2e36aee110927aedf9a          38\n",
      "12  8937134734f869debcab8f23d77465b4caaa85df          78\n",
      "13  8deca80c3da6024a1456e123308eb94fee1b439f          12\n",
      "14  951945330eb5df161ac4f97729647514001cd102          80\n",
      "15  969cc6fb74e076a68e36a04409cb9d3765757508          94\n",
      "16  9bb911319fbc04f01755814cb5edb21df3d1a336          58\n",
      "17  9d6f0ead607ac2a6c2460e4d14fb439a146b7dec          24\n",
      "18  a1380d458c15706b9d5282304db81a5a78352e96         120\n",
      "19  a58de017cbeda1763ea002fe027ed41b4ed53109         606\n",
      "20  a820d2d4f16bbd53be9e41e0417dfb234bfdfba8         105\n",
      "21  b64cdd1a0bd907e5e00b39e345194768e330d652         164\n",
      "22  b80344d063b5ccb3212f76538f3d9e43d87dca9e         125\n",
      "23  baf47ed8da24d607e50d8684cde78b923538640f         413\n",
      "24  bd4c6e843f00bd476847fb75c47b4fb430a06856          14\n",
      "25  bd8475385f0aa78830fa6dfce9e7242164b035c8         228\n",
      "26  bf30441e24ef5326354295723d9fe1edf59b8554          18\n",
      "27  c737ec8c1b16ce8e39115f4432c9a7fc21ec47a1          16\n",
      "28  d6589314c0a9bcbca4fee0c93b14bc402363afea         354\n",
      "29  e006b1a48f466bf59feefed32bec6494495a4436          73\n",
      "30  ed7d4c476013b1c3dd91982b61494bf7436083ba          22\n",
      "31  f84f5b5a5c5d1d9fb4866f6488e0d2661b54c192         128\n"
     ]
    }
   ],
   "source": [
    "a=df.groupby('User')['Play_count'].sum()\n",
    "a=pd.DataFrame({'User':a.index,'Play_count':a.values})\n",
    "print(f'unique user play_count : \\n\\n{a}')"
   ]
  },
  {
   "cell_type": "code",
   "execution_count": 43,
   "metadata": {},
   "outputs": [
    {
     "name": "stdout",
     "output_type": "stream",
     "text": [
      "unique song play_count : \n",
      "\n",
      "                 Song  Play_count\n",
      "0  SOAARXR12A8C133D15           1\n",
      "1  SOABJBU12A8C13F63F           1\n",
      "2  SOABRAB12A6D4F7AAF           2\n",
      "3  SOABULH12A8C1331A4           1\n",
      "4  SOACHXA12A58A7BE3E           1\n"
     ]
    }
   ],
   "source": [
    "b=df.groupby('Song')['Play_count'].sum()\n",
    "b=pd.DataFrame({'Song':b.index , 'Play_count':b.values})\n",
    "print(f'unique song play_count : \\n\\n{b.head()}')"
   ]
  },
  {
   "cell_type": "code",
   "execution_count": 40,
   "metadata": {},
   "outputs": [
    {
     "data": {
      "text/html": [
       "<div>\n",
       "<style scoped>\n",
       "    .dataframe tbody tr th:only-of-type {\n",
       "        vertical-align: middle;\n",
       "    }\n",
       "\n",
       "    .dataframe tbody tr th {\n",
       "        vertical-align: top;\n",
       "    }\n",
       "\n",
       "    .dataframe thead th {\n",
       "        text-align: right;\n",
       "    }\n",
       "</style>\n",
       "<table border=\"1\" class=\"dataframe\">\n",
       "  <thead>\n",
       "    <tr style=\"text-align: right;\">\n",
       "      <th></th>\n",
       "      <th>User</th>\n",
       "      <th>Play_count</th>\n",
       "    </tr>\n",
       "  </thead>\n",
       "  <tbody>\n",
       "    <tr>\n",
       "      <th>9</th>\n",
       "      <td>5a905f000fc1ff3df7ca807d57edb608863db05d</td>\n",
       "      <td>1422</td>\n",
       "    </tr>\n",
       "    <tr>\n",
       "      <th>19</th>\n",
       "      <td>a58de017cbeda1763ea002fe027ed41b4ed53109</td>\n",
       "      <td>606</td>\n",
       "    </tr>\n",
       "    <tr>\n",
       "      <th>23</th>\n",
       "      <td>baf47ed8da24d607e50d8684cde78b923538640f</td>\n",
       "      <td>413</td>\n",
       "    </tr>\n",
       "    <tr>\n",
       "      <th>28</th>\n",
       "      <td>d6589314c0a9bcbca4fee0c93b14bc402363afea</td>\n",
       "      <td>354</td>\n",
       "    </tr>\n",
       "    <tr>\n",
       "      <th>25</th>\n",
       "      <td>bd8475385f0aa78830fa6dfce9e7242164b035c8</td>\n",
       "      <td>228</td>\n",
       "    </tr>\n",
       "  </tbody>\n",
       "</table>\n",
       "</div>"
      ],
      "text/plain": [
       "                                        User  Play_count\n",
       "9   5a905f000fc1ff3df7ca807d57edb608863db05d        1422\n",
       "19  a58de017cbeda1763ea002fe027ed41b4ed53109         606\n",
       "23  baf47ed8da24d607e50d8684cde78b923538640f         413\n",
       "28  d6589314c0a9bcbca4fee0c93b14bc402363afea         354\n",
       "25  bd8475385f0aa78830fa6dfce9e7242164b035c8         228"
      ]
     },
     "execution_count": 40,
     "metadata": {},
     "output_type": "execute_result"
    }
   ],
   "source": [
    "TU=a.sort_values('Play_count',ascending=False)\n",
    "TU.head()\n"
   ]
  },
  {
   "cell_type": "code",
   "execution_count": 41,
   "metadata": {},
   "outputs": [
    {
     "data": {
      "text/html": [
       "<div>\n",
       "<style scoped>\n",
       "    .dataframe tbody tr th:only-of-type {\n",
       "        vertical-align: middle;\n",
       "    }\n",
       "\n",
       "    .dataframe tbody tr th {\n",
       "        vertical-align: top;\n",
       "    }\n",
       "\n",
       "    .dataframe thead th {\n",
       "        text-align: right;\n",
       "    }\n",
       "</style>\n",
       "<table border=\"1\" class=\"dataframe\">\n",
       "  <thead>\n",
       "    <tr style=\"text-align: right;\">\n",
       "      <th></th>\n",
       "      <th>Song</th>\n",
       "      <th>Play_count</th>\n",
       "    </tr>\n",
       "  </thead>\n",
       "  <tbody>\n",
       "    <tr>\n",
       "      <th>124</th>\n",
       "      <td>SOBONKR12A58A7A7E0</td>\n",
       "      <td>36</td>\n",
       "    </tr>\n",
       "    <tr>\n",
       "      <th>993</th>\n",
       "      <td>SONYKOW12AB01849C9</td>\n",
       "      <td>29</td>\n",
       "    </tr>\n",
       "    <tr>\n",
       "      <th>926</th>\n",
       "      <td>SOMVTRL12A67AE0921</td>\n",
       "      <td>28</td>\n",
       "    </tr>\n",
       "    <tr>\n",
       "      <th>464</th>\n",
       "      <td>SOGKEGN12AB0185355</td>\n",
       "      <td>26</td>\n",
       "    </tr>\n",
       "    <tr>\n",
       "      <th>65</th>\n",
       "      <td>SOAUWYT12A81C206F1</td>\n",
       "      <td>25</td>\n",
       "    </tr>\n",
       "  </tbody>\n",
       "</table>\n",
       "</div>"
      ],
      "text/plain": [
       "                   Song  Play_count\n",
       "124  SOBONKR12A58A7A7E0          36\n",
       "993  SONYKOW12AB01849C9          29\n",
       "926  SOMVTRL12A67AE0921          28\n",
       "464  SOGKEGN12AB0185355          26\n",
       "65   SOAUWYT12A81C206F1          25"
      ]
     },
     "execution_count": 41,
     "metadata": {},
     "output_type": "execute_result"
    }
   ],
   "source": [
    "TS=b.sort_values('Play_count',ascending=False)\n",
    "TS.head()"
   ]
  },
  {
   "cell_type": "code",
   "execution_count": 44,
   "metadata": {},
   "outputs": [],
   "source": [
    "TU.to_csv(\"Top_Users\")\n",
    "TS.to_csv(\"Top_Songs\")"
   ]
  },
  {
   "cell_type": "code",
   "execution_count": null,
   "metadata": {},
   "outputs": [],
   "source": []
  }
 ],
 "metadata": {
  "kernelspec": {
   "display_name": "Python 3",
   "language": "python",
   "name": "python3"
  },
  "language_info": {
   "codemirror_mode": {
    "name": "ipython",
    "version": 3
   },
   "file_extension": ".py",
   "mimetype": "text/x-python",
   "name": "python",
   "nbconvert_exporter": "python",
   "pygments_lexer": "ipython3",
   "version": "3.7.3"
  }
 },
 "nbformat": 4,
 "nbformat_minor": 2
}
