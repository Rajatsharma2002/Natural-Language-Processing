{
 "cells": [
  {
   "cell_type": "code",
   "execution_count": 1,
   "id": "64b16642",
   "metadata": {},
   "outputs": [],
   "source": [
    "import nltk\n",
    "from nltk import pos_tag\n",
    "from nltk.tokenize import word_tokenize"
   ]
  },
  {
   "cell_type": "code",
   "execution_count": 2,
   "id": "8d8f1244",
   "metadata": {},
   "outputs": [
    {
     "name": "stdout",
     "output_type": "stream",
     "text": [
      "['Discuss', 'about', 'the', 'Part', 'of', 'Speech', 'tagging', 'in', 'NLP', '.', 'How', 'can', 'it', 'be', 'performed', 'by', 'using', 'NLTK', '.']\n"
     ]
    }
   ],
   "source": [
    "text = \"Discuss about the Part of Speech tagging in NLP. How can it be performed by using NLTK.\"\n",
    "tokenized_text = word_tokenize(text)\n",
    "print(tokenized_text)"
   ]
  },
  {
   "cell_type": "code",
   "execution_count": 3,
   "id": "92f97850",
   "metadata": {},
   "outputs": [
    {
     "data": {
      "text/plain": [
       "[('Discuss', 'NN'),\n",
       " ('about', 'IN'),\n",
       " ('the', 'DT'),\n",
       " ('Part', 'NNP'),\n",
       " ('of', 'IN'),\n",
       " ('Speech', 'NNP'),\n",
       " ('tagging', 'VBG'),\n",
       " ('in', 'IN'),\n",
       " ('NLP', 'NNP'),\n",
       " ('.', '.'),\n",
       " ('How', 'WRB'),\n",
       " ('can', 'MD'),\n",
       " ('it', 'PRP'),\n",
       " ('be', 'VB'),\n",
       " ('performed', 'VBN'),\n",
       " ('by', 'IN'),\n",
       " ('using', 'VBG'),\n",
       " ('NLTK', 'NNP'),\n",
       " ('.', '.')]"
      ]
     },
     "execution_count": 3,
     "metadata": {},
     "output_type": "execute_result"
    }
   ],
   "source": [
    "pos_tag(tokenized_text)"
   ]
  },
  {
   "cell_type": "code",
   "execution_count": 4,
   "id": "3f3a18ba",
   "metadata": {},
   "outputs": [
    {
     "name": "stdout",
     "output_type": "stream",
     "text": [
      "NN: noun, common, singular or mass\n",
      "    common-carrier cabbage knuckle-duster Casino afghan shed thermostat\n",
      "    investment slide humour falloff slick wind hyena override subhumanity\n",
      "    machinist ...\n",
      "None \n",
      "\n",
      "IN: preposition or conjunction, subordinating\n",
      "    astride among uppon whether out inside pro despite on by throughout\n",
      "    below within for towards near behind atop around if like until below\n",
      "    next into if beside ...\n",
      "None \n",
      "\n",
      "NNP: noun, proper, singular\n",
      "    Motown Venneboerger Czestochwa Ranzer Conchita Trumplane Christos\n",
      "    Oceanside Escobar Kreisler Sawyer Cougar Yvette Ervin ODI Darryl CTCA\n",
      "    Shannon A.K.C. Meltex Liverpool ...\n",
      "None \n",
      "\n",
      "VBG: verb, present participle or gerund\n",
      "    telegraphing stirring focusing angering judging stalling lactating\n",
      "    hankerin' alleging veering capping approaching traveling besieging\n",
      "    encrypting interrupting erasing wincing ...\n",
      "None \n",
      "\n",
      "WRB: Wh-adverb\n",
      "    how however whence whenever where whereby whereever wherein whereof why\n",
      "None \n",
      "\n",
      "MD: modal auxiliary\n",
      "    can cannot could couldn't dare may might must need ought shall should\n",
      "    shouldn't will would\n",
      "None \n",
      "\n",
      "PRP: pronoun, personal\n",
      "    hers herself him himself hisself it itself me myself one oneself ours\n",
      "    ourselves ownself self she thee theirs them themselves they thou thy us\n",
      "None \n",
      "\n",
      "VB: verb, base form\n",
      "    ask assemble assess assign assume atone attention avoid bake balkanize\n",
      "    bank begin behold believe bend benefit bevel beware bless boil bomb\n",
      "    boost brace break bring broil brush build ...\n",
      "None \n",
      "\n",
      "VBN: verb, past participle\n",
      "    multihulled dilapidated aerosolized chaired languished panelized used\n",
      "    experimented flourished imitated reunifed factored condensed sheared\n",
      "    unsettled primed dubbed desired ...\n",
      "None\n"
     ]
    }
   ],
   "source": [
    "print(nltk.help.upenn_tagset(\"NN\"),\"\\n\")\n",
    "print(nltk.help.upenn_tagset(\"IN\"),\"\\n\")\n",
    "print(nltk.help.upenn_tagset(\"NNP\"),\"\\n\")\n",
    "print(nltk.help.upenn_tagset(\"VBG\"),\"\\n\")\n",
    "print(nltk.help.upenn_tagset(\"WRB\"),\"\\n\")\n",
    "print(nltk.help.upenn_tagset(\"MD\"),\"\\n\")\n",
    "print(nltk.help.upenn_tagset(\"PRP\"),\"\\n\")\n",
    "print(nltk.help.upenn_tagset(\"VB\"),\"\\n\")\n",
    "print(nltk.help.upenn_tagset(\"VBN\"))"
   ]
  },
  {
   "cell_type": "code",
   "execution_count": null,
   "id": "cc6353fc",
   "metadata": {},
   "outputs": [],
   "source": []
  }
 ],
 "metadata": {
  "kernelspec": {
   "display_name": "Python 3 (ipykernel)",
   "language": "python",
   "name": "python3"
  },
  "language_info": {
   "codemirror_mode": {
    "name": "ipython",
    "version": 3
   },
   "file_extension": ".py",
   "mimetype": "text/x-python",
   "name": "python",
   "nbconvert_exporter": "python",
   "pygments_lexer": "ipython3",
   "version": "3.9.7"
  }
 },
 "nbformat": 4,
 "nbformat_minor": 5
}
