{
 "cells": [
  {
   "cell_type": "code",
   "execution_count": 1,
   "metadata": {},
   "outputs": [],
   "source": [
    "#Importing all necessary libraries\n",
    "import numpy as np\n",
    "import pandas as pd\n",
    "import nltk\n",
    "from nltk.corpus import stopwords\n",
    "from nltk.stem import WordNetLemmatizer\n",
    "from nltk.tokenize import word_tokenize\n",
    "import string"
   ]
  },
  {
   "cell_type": "code",
   "execution_count": 2,
   "metadata": {},
   "outputs": [
    {
     "data": {
      "text/html": [
       "<div>\n",
       "<style scoped>\n",
       "    .dataframe tbody tr th:only-of-type {\n",
       "        vertical-align: middle;\n",
       "    }\n",
       "\n",
       "    .dataframe tbody tr th {\n",
       "        vertical-align: top;\n",
       "    }\n",
       "\n",
       "    .dataframe thead th {\n",
       "        text-align: right;\n",
       "    }\n",
       "</style>\n",
       "<table border=\"1\" class=\"dataframe\">\n",
       "  <thead>\n",
       "    <tr style=\"text-align: right;\">\n",
       "      <th></th>\n",
       "      <th>UserName</th>\n",
       "      <th>ScreenName</th>\n",
       "      <th>Location</th>\n",
       "      <th>TweetAt</th>\n",
       "      <th>OriginalTweet</th>\n",
       "      <th>Sentiment</th>\n",
       "    </tr>\n",
       "  </thead>\n",
       "  <tbody>\n",
       "    <tr>\n",
       "      <th>0</th>\n",
       "      <td>3799</td>\n",
       "      <td>48751</td>\n",
       "      <td>London</td>\n",
       "      <td>16-03-2020</td>\n",
       "      <td>@MeNyrbie @Phil_Gahan @Chrisitv https://t.co/i...</td>\n",
       "      <td>Neutral</td>\n",
       "    </tr>\n",
       "    <tr>\n",
       "      <th>1</th>\n",
       "      <td>3800</td>\n",
       "      <td>48752</td>\n",
       "      <td>UK</td>\n",
       "      <td>16-03-2020</td>\n",
       "      <td>advice Talk to your neighbours family to excha...</td>\n",
       "      <td>Positive</td>\n",
       "    </tr>\n",
       "    <tr>\n",
       "      <th>2</th>\n",
       "      <td>3801</td>\n",
       "      <td>48753</td>\n",
       "      <td>Vagabonds</td>\n",
       "      <td>16-03-2020</td>\n",
       "      <td>Coronavirus Australia: Woolworths to give elde...</td>\n",
       "      <td>Positive</td>\n",
       "    </tr>\n",
       "    <tr>\n",
       "      <th>3</th>\n",
       "      <td>3802</td>\n",
       "      <td>48754</td>\n",
       "      <td>NaN</td>\n",
       "      <td>16-03-2020</td>\n",
       "      <td>My food stock is not the only one which is emp...</td>\n",
       "      <td>Positive</td>\n",
       "    </tr>\n",
       "    <tr>\n",
       "      <th>4</th>\n",
       "      <td>3803</td>\n",
       "      <td>48755</td>\n",
       "      <td>NaN</td>\n",
       "      <td>16-03-2020</td>\n",
       "      <td>Me, ready to go at supermarket during the #COV...</td>\n",
       "      <td>Extremely Negative</td>\n",
       "    </tr>\n",
       "  </tbody>\n",
       "</table>\n",
       "</div>"
      ],
      "text/plain": [
       "   UserName  ScreenName   Location     TweetAt  \\\n",
       "0      3799       48751     London  16-03-2020   \n",
       "1      3800       48752         UK  16-03-2020   \n",
       "2      3801       48753  Vagabonds  16-03-2020   \n",
       "3      3802       48754        NaN  16-03-2020   \n",
       "4      3803       48755        NaN  16-03-2020   \n",
       "\n",
       "                                       OriginalTweet           Sentiment  \n",
       "0  @MeNyrbie @Phil_Gahan @Chrisitv https://t.co/i...             Neutral  \n",
       "1  advice Talk to your neighbours family to excha...            Positive  \n",
       "2  Coronavirus Australia: Woolworths to give elde...            Positive  \n",
       "3  My food stock is not the only one which is emp...            Positive  \n",
       "4  Me, ready to go at supermarket during the #COV...  Extremely Negative  "
      ]
     },
     "execution_count": 2,
     "metadata": {},
     "output_type": "execute_result"
    }
   ],
   "source": [
    "# making dataframe of traininig csv file\n",
    "train_df=pd.read_csv(\"Corona_NLP_train.csv\")\n",
    "train_df.head()"
   ]
  },
  {
   "cell_type": "code",
   "execution_count": 3,
   "metadata": {},
   "outputs": [
    {
     "data": {
      "text/html": [
       "<div>\n",
       "<style scoped>\n",
       "    .dataframe tbody tr th:only-of-type {\n",
       "        vertical-align: middle;\n",
       "    }\n",
       "\n",
       "    .dataframe tbody tr th {\n",
       "        vertical-align: top;\n",
       "    }\n",
       "\n",
       "    .dataframe thead th {\n",
       "        text-align: right;\n",
       "    }\n",
       "</style>\n",
       "<table border=\"1\" class=\"dataframe\">\n",
       "  <thead>\n",
       "    <tr style=\"text-align: right;\">\n",
       "      <th></th>\n",
       "      <th>UserName</th>\n",
       "      <th>ScreenName</th>\n",
       "      <th>Location</th>\n",
       "      <th>TweetAt</th>\n",
       "      <th>OriginalTweet</th>\n",
       "      <th>Sentiment</th>\n",
       "    </tr>\n",
       "  </thead>\n",
       "  <tbody>\n",
       "    <tr>\n",
       "      <th>0</th>\n",
       "      <td>1</td>\n",
       "      <td>44953</td>\n",
       "      <td>NYC</td>\n",
       "      <td>02-03-2020</td>\n",
       "      <td>TRENDING: New Yorkers encounter empty supermar...</td>\n",
       "      <td>Extremely Negative</td>\n",
       "    </tr>\n",
       "    <tr>\n",
       "      <th>1</th>\n",
       "      <td>2</td>\n",
       "      <td>44954</td>\n",
       "      <td>Seattle, WA</td>\n",
       "      <td>02-03-2020</td>\n",
       "      <td>When I couldn't find hand sanitizer at Fred Me...</td>\n",
       "      <td>Positive</td>\n",
       "    </tr>\n",
       "    <tr>\n",
       "      <th>2</th>\n",
       "      <td>3</td>\n",
       "      <td>44955</td>\n",
       "      <td>NaN</td>\n",
       "      <td>02-03-2020</td>\n",
       "      <td>Find out how you can protect yourself and love...</td>\n",
       "      <td>Extremely Positive</td>\n",
       "    </tr>\n",
       "    <tr>\n",
       "      <th>3</th>\n",
       "      <td>4</td>\n",
       "      <td>44956</td>\n",
       "      <td>Chicagoland</td>\n",
       "      <td>02-03-2020</td>\n",
       "      <td>#Panic buying hits #NewYork City as anxious sh...</td>\n",
       "      <td>Negative</td>\n",
       "    </tr>\n",
       "    <tr>\n",
       "      <th>4</th>\n",
       "      <td>5</td>\n",
       "      <td>44957</td>\n",
       "      <td>Melbourne, Victoria</td>\n",
       "      <td>03-03-2020</td>\n",
       "      <td>#toiletpaper #dunnypaper #coronavirus #coronav...</td>\n",
       "      <td>Neutral</td>\n",
       "    </tr>\n",
       "  </tbody>\n",
       "</table>\n",
       "</div>"
      ],
      "text/plain": [
       "   UserName  ScreenName             Location     TweetAt  \\\n",
       "0         1       44953                  NYC  02-03-2020   \n",
       "1         2       44954          Seattle, WA  02-03-2020   \n",
       "2         3       44955                  NaN  02-03-2020   \n",
       "3         4       44956          Chicagoland  02-03-2020   \n",
       "4         5       44957  Melbourne, Victoria  03-03-2020   \n",
       "\n",
       "                                       OriginalTweet           Sentiment  \n",
       "0  TRENDING: New Yorkers encounter empty supermar...  Extremely Negative  \n",
       "1  When I couldn't find hand sanitizer at Fred Me...            Positive  \n",
       "2  Find out how you can protect yourself and love...  Extremely Positive  \n",
       "3  #Panic buying hits #NewYork City as anxious sh...            Negative  \n",
       "4  #toiletpaper #dunnypaper #coronavirus #coronav...             Neutral  "
      ]
     },
     "execution_count": 3,
     "metadata": {},
     "output_type": "execute_result"
    }
   ],
   "source": [
    "# making dataframe of testing csv file\n",
    "test_df=pd.read_csv(\"Corona_NLP_test.csv\")\n",
    "test_df.head()"
   ]
  },
  {
   "cell_type": "code",
   "execution_count": 4,
   "metadata": {},
   "outputs": [],
   "source": [
    "# taking necessary columns from dataset\n",
    "train_df=train_df[['OriginalTweet', 'Sentiment']]\n",
    "test_df=test_df[['OriginalTweet', 'Sentiment']]"
   ]
  },
  {
   "cell_type": "code",
   "execution_count": 5,
   "metadata": {},
   "outputs": [
    {
     "data": {
      "text/plain": [
       "OriginalTweet    0\n",
       "Sentiment        0\n",
       "dtype: int64"
      ]
     },
     "execution_count": 5,
     "metadata": {},
     "output_type": "execute_result"
    }
   ],
   "source": [
    "# checking for Null values in training data \n",
    "train_df.isnull().sum()"
   ]
  },
  {
   "cell_type": "code",
   "execution_count": 6,
   "metadata": {},
   "outputs": [
    {
     "data": {
      "text/plain": [
       "OriginalTweet    0\n",
       "Sentiment        0\n",
       "dtype: int64"
      ]
     },
     "execution_count": 6,
     "metadata": {},
     "output_type": "execute_result"
    }
   ],
   "source": [
    "# checking for Null values in testing data \n",
    "test_df.isnull().sum()"
   ]
  },
  {
   "cell_type": "code",
   "execution_count": 7,
   "metadata": {},
   "outputs": [
    {
     "name": "stdout",
     "output_type": "stream",
     "text": [
      "(41157, 2)\n",
      "(3798, 2)\n"
     ]
    }
   ],
   "source": [
    "# checking shape of data\n",
    "print(train_df.shape)\n",
    "print(test_df.shape)"
   ]
  },
  {
   "cell_type": "code",
   "execution_count": 8,
   "metadata": {},
   "outputs": [],
   "source": [
    "# initializing lemmatization\n",
    "lemmatizer = WordNetLemmatizer()"
   ]
  },
  {
   "cell_type": "code",
   "execution_count": 9,
   "metadata": {},
   "outputs": [],
   "source": [
    "# storing punctuations in the variable \n",
    "puncs_ = string.punctuation.replace('@','')\n",
    "puncs = puncs_.replace('#','')\n",
    "puncs\n",
    "\n",
    "# defining a function for preprocessing all the tweets data \n",
    "def textClean(text):\n",
    "    # coversion of all words to lower case\n",
    "    lower = [char.lower() for char in text if char not in puncs]\n",
    "    lower = ''.join(lower)\n",
    "    lower = ' '.join(lower.split())\n",
    "    \n",
    "    # deleting all @mentions and #tags from tweets\n",
    "    for char in lower:\n",
    "        if lower.find('@')==-1 and lower.find('#')==-1: # break loop once @ and # is over\n",
    "            break\n",
    "        if (char=='@' or char=='#'):\n",
    "            try:\n",
    "                char_index = lower.index(char)\n",
    "            except ValueError:\n",
    "                break\n",
    "                \n",
    "            del_word = ''\n",
    "            while char not in string.whitespace:\n",
    "                del_word = del_word+lower[char_index]\n",
    "                char_index = char_index + 1\n",
    "                try:\n",
    "                    char = lower[char_index] \n",
    "                except IndexError:\n",
    "                    char = ' '\n",
    "                except:\n",
    "                    print(\"Something else went wrong\")\n",
    "            lower = lower.replace(del_word,'',1)\n",
    "    lower = [char for char in lower if char not in string.punctuation and char not in string.digits]\n",
    "    lower = ''.join(lower)\n",
    "    \n",
    "#   converting words to tokens\n",
    "    tokens = word_tokenize(lower)\n",
    "    \n",
    "#   deleting http words\n",
    "    nohttp = [word for word in tokens if word[0:4]!='http']\n",
    "    \n",
    "#   eleminating stop words from tweets\n",
    "    nostop = [word for word in nohttp if word not in stopwords.words('english')]\n",
    "    \n",
    "#   applying lemmatization \n",
    "    lemmatized = [lemmatizer.lemmatize(word) for word in nostop]\n",
    "    return lemmatized "
   ]
  },
  {
   "cell_type": "code",
   "execution_count": 10,
   "metadata": {},
   "outputs": [
    {
     "name": "stdout",
     "output_type": "stream",
     "text": [
      "[]\n",
      "['advice', 'talk', 'neighbour', 'family', 'exchange', 'phone', 'number', 'create', 'contact', 'list', 'phone', 'number', 'neighbour', 'school', 'employer', 'chemist', 'gp', 'set', 'online', 'shopping', 'account', 'po', 'adequate', 'supply', 'regular', 'med', 'order']\n",
      "['coronavirus', 'australia', 'woolworth', 'give', 'elderly', 'disabled', 'dedicated', 'shopping', 'hour', 'amid', 'covid', 'outbreak']\n",
      "['food', 'stock', 'one', 'empty', 'please', 'dont', 'panic', 'enough', 'food', 'everyone', 'take', 'need', 'stay', 'calm', 'stay', 'safe']\n",
      "['ready', 'go', 'supermarket', 'outbreak', 'im', 'paranoid', 'food', 'stock', 'litteraly', 'empty', 'serious', 'thing', 'please', 'dont', 'panic', 'cause', 'shortage']\n"
     ]
    }
   ],
   "source": [
    "# printing the first five tweets preprocessed words\n",
    "tweet_words = train_df.OriginalTweet.head().apply(textClean)\n",
    "for i in tweet_words:\n",
    "    print(i)"
   ]
  },
  {
   "cell_type": "code",
   "execution_count": 11,
   "metadata": {},
   "outputs": [
    {
     "name": "stdout",
     "output_type": "stream",
     "text": [
      "(41157, 34673) (41157,)\n"
     ]
    }
   ],
   "source": [
    "# converting text to vector\n",
    "from sklearn.feature_extraction.text import CountVectorizer\n",
    "vectorizer = CountVectorizer(analyzer=textClean)\n",
    "x = vectorizer.fit_transform(train_df['OriginalTweet'])\n",
    "y = train_df['Sentiment']\n",
    "print(x.shape,y.shape)"
   ]
  },
  {
   "cell_type": "code",
   "execution_count": 27,
   "metadata": {},
   "outputs": [],
   "source": [
    "# converting data into training and testing\n",
    "from sklearn.model_selection import train_test_split\n",
    "x_train, x_test, y_train, y_test = train_test_split(x,y,test_size=0.2,random_state=0)"
   ]
  },
  {
   "cell_type": "code",
   "execution_count": 28,
   "metadata": {},
   "outputs": [
    {
     "data": {
      "text/plain": [
       "MultinomialNB()"
      ]
     },
     "execution_count": 28,
     "metadata": {},
     "output_type": "execute_result"
    }
   ],
   "source": [
    "# initializing naive bayes model\n",
    "from sklearn.naive_bayes import MultinomialNB\n",
    "model = MultinomialNB()\n",
    "model.fit(x_train, y_train)"
   ]
  },
  {
   "cell_type": "code",
   "execution_count": 29,
   "metadata": {},
   "outputs": [
    {
     "name": "stdout",
     "output_type": "stream",
     "text": [
      "                    precision    recall  f1-score   support\n",
      "\n",
      "Extremely Negative       0.86      0.65      0.74      4387\n",
      "Extremely Positive       0.81      0.69      0.75      5293\n",
      "          Negative       0.68      0.77      0.72      7931\n",
      "           Neutral       0.92      0.53      0.67      6187\n",
      "          Positive       0.61      0.85      0.71      9127\n",
      "\n",
      "          accuracy                           0.72     32925\n",
      "         macro avg       0.78      0.70      0.72     32925\n",
      "      weighted avg       0.75      0.72      0.72     32925\n",
      "\n",
      "\n",
      "Confusion Matrix: \n",
      " [[2835   30 1086   35  401]\n",
      " [  22 3660  210   27 1374]\n",
      " [ 306  159 6070  115 1281]\n",
      " [  56  147  900 3281 1803]\n",
      " [  71  512  686  123 7735]]\n",
      "\n",
      "Accuracy: \n",
      " 0.7162034927866363\n"
     ]
    }
   ],
   "source": [
    "# checking the accuracy and report on training data \n",
    "from sklearn.metrics import classification_report, confusion_matrix, accuracy_score\n",
    "train_pred = model.predict(x_train)\n",
    "print(classification_report(y_train, train_pred))\n",
    "\n",
    "print(\"\\nConfusion Matrix: \\n\", confusion_matrix(y_train, train_pred))\n",
    "print(\"\\nAccuracy: \\n\", accuracy_score(y_train, train_pred))"
   ]
  },
  {
   "cell_type": "code",
   "execution_count": 30,
   "metadata": {},
   "outputs": [
    {
     "name": "stdout",
     "output_type": "stream",
     "text": [
      "                    precision    recall  f1-score   support\n",
      "\n",
      "Extremely Negative       0.60      0.39      0.47      1094\n",
      "Extremely Positive       0.57      0.43      0.49      1331\n",
      "          Negative       0.44      0.53      0.48      1986\n",
      "           Neutral       0.69      0.35      0.46      1526\n",
      "          Positive       0.41      0.61      0.49      2295\n",
      "\n",
      "          accuracy                           0.48      8232\n",
      "         macro avg       0.54      0.46      0.48      8232\n",
      "      weighted avg       0.52      0.48      0.48      8232\n",
      "\n",
      "\n",
      "Confusion Matrix: \n",
      " [[ 426    7  515   21  125]\n",
      " [   8  572   80   20  651]\n",
      " [ 204   70 1048   83  581]\n",
      " [  25   40  304  532  625]\n",
      " [  45  321  416  120 1393]]\n",
      "\n",
      "Accuracy: \n",
      " 0.48238581146744414\n"
     ]
    }
   ],
   "source": [
    "# checking the accuracy and report on testing data \n",
    "test_pred = model.predict(x_test)\n",
    "print(classification_report(y_test, test_pred))\n",
    "\n",
    "print(\"\\nConfusion Matrix: \\n\", confusion_matrix(y_test, test_pred))\n",
    "print(\"\\nAccuracy: \\n\", accuracy_score(y_test, test_pred))"
   ]
  },
  {
   "cell_type": "code",
   "execution_count": 31,
   "metadata": {},
   "outputs": [
    {
     "name": "stdout",
     "output_type": "stream",
     "text": [
      "(3798, 34673) (3798,)\n"
     ]
    }
   ],
   "source": [
    "# converting text to vector\n",
    "x_ = vectorizer.transform(test_df['OriginalTweet'])\n",
    "y_=test_df['Sentiment']\n",
    "print(x_.shape,y_.shape)"
   ]
  },
  {
   "cell_type": "code",
   "execution_count": 32,
   "metadata": {},
   "outputs": [
    {
     "name": "stdout",
     "output_type": "stream",
     "text": [
      "                    precision    recall  f1-score   support\n",
      "\n",
      "Extremely Negative       0.61      0.32      0.42       592\n",
      "Extremely Positive       0.64      0.36      0.46       599\n",
      "          Negative       0.44      0.50      0.47      1041\n",
      "           Neutral       0.68      0.22      0.33       619\n",
      "          Positive       0.37      0.70      0.49       947\n",
      "\n",
      "          accuracy                           0.45      3798\n",
      "         macro avg       0.55      0.42      0.43      3798\n",
      "      weighted avg       0.52      0.45      0.44      3798\n",
      "\n",
      "\n",
      "Confusion Matrix: \n",
      " [[188   4 308   5  87]\n",
      " [  3 218  38   3 337]\n",
      " [ 85  22 522  40 372]\n",
      " [  8  10 158 134 309]\n",
      " [ 24  87 160  16 660]]\n",
      "\n",
      "Final Testing Accuracy: \n",
      " 0.45339652448657186\n"
     ]
    }
   ],
   "source": [
    "y_pred = model.predict(x_)\n",
    "print(classification_report(y_, y_pred))\n",
    "\n",
    "print(\"\\nConfusion Matrix: \\n\", confusion_matrix(y_, y_pred))\n",
    "print(\"\\nFinal Testing Accuracy: \\n\", accuracy_score(y_, y_pred))"
   ]
  },
  {
   "cell_type": "code",
   "execution_count": null,
   "metadata": {},
   "outputs": [],
   "source": []
  },
  {
   "cell_type": "code",
   "execution_count": null,
   "metadata": {},
   "outputs": [],
   "source": []
  }
 ],
 "metadata": {
  "kernelspec": {
   "display_name": "Python 3 (ipykernel)",
   "language": "python",
   "name": "python3"
  },
  "language_info": {
   "codemirror_mode": {
    "name": "ipython",
    "version": 3
   },
   "file_extension": ".py",
   "mimetype": "text/x-python",
   "name": "python",
   "nbconvert_exporter": "python",
   "pygments_lexer": "ipython3",
   "version": "3.9.7"
  }
 },
 "nbformat": 4,
 "nbformat_minor": 2
}
